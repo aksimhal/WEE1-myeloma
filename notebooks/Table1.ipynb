{
 "cells": [
  {
   "cell_type": "code",
   "execution_count": 1,
   "id": "mighty-elder",
   "metadata": {},
   "outputs": [],
   "source": [
    "import sys\n",
    "import numpy as np\n",
    "import pandas as pd\n",
    "from scipy.stats import fisher_exact\n",
    "\n",
    "%matplotlib inline\n",
    "import matplotlib.pyplot as plt\n",
    "\n",
    "from scipy import stats\n",
    "from scipy.stats import chi2_contingency"
   ]
  },
  {
   "cell_type": "code",
   "execution_count": 3,
   "id": "96b3e30e-d84e-4afc-8f82-284305b210d1",
   "metadata": {},
   "outputs": [],
   "source": [
    "import mmrf_data_loader "
   ]
  },
  {
   "cell_type": "code",
   "execution_count": 4,
   "id": "63214297-47ba-448a-ab92-5b8c90d1d889",
   "metadata": {},
   "outputs": [
    {
     "name": "stdout",
     "output_type": "stream",
     "text": [
      "659\n",
      "10\n",
      "659\n"
     ]
    }
   ],
   "source": [
    "patient_list, patients_mask, event_duration, censorlist = mmrf_data_loader.load_MMRF_clinical_data()"
   ]
  },
  {
   "cell_type": "code",
   "execution_count": 5,
   "id": "2a29d368-e6a0-4b8b-a380-cd9f643fb215",
   "metadata": {},
   "outputs": [],
   "source": [
    "clinical_data_df = pd.read_csv('data/km_clinical_data_669.csv')\n",
    "clinical_data_df = clinical_data_df[clinical_data_df['subjectIDlist'].isin(patient_list)]\n",
    "clinical_data_df = clinical_data_df.reset_index()"
   ]
  },
  {
   "cell_type": "code",
   "execution_count": 6,
   "id": "2fec06b2-7c41-4bdb-bf11-cdf458af3494",
   "metadata": {},
   "outputs": [],
   "source": [
    "secondary_dataset_df = pd.read_excel('data/MMRF_clin_IA13_to_Anish.xlsx')\n",
    "columns = ['sample', 'HRD', 't_MMSET', 't_CCND1', 'any_MAF',\\\n",
    "           't_MYC', 'chromothripsis_code', 'APOBEC_code',\\\n",
    "           'TPsum', 'gain1q21']\n",
    "shorter_id_list = [] \n",
    "for id in patient_list: \n",
    "    shorter_id_list.append(id[0:14])\n",
    "\n",
    "secondary_dataset_df = secondary_dataset_df[secondary_dataset_df['sample'].isin(shorter_id_list)]\n",
    "secondary_dataset_df = secondary_dataset_df.reset_index()\n",
    "secondary_dataset_df = secondary_dataset_df[columns]"
   ]
  },
  {
   "cell_type": "code",
   "execution_count": 7,
   "id": "2fcc844b-33d7-4480-a53d-bdcc7f0b8e8f",
   "metadata": {},
   "outputs": [
    {
     "data": {
      "text/plain": [
       "0.0    418\n",
       "1.0     53\n",
       "2.0     18\n",
       "Name: TPsum, dtype: int64"
      ]
     },
     "execution_count": 7,
     "metadata": {},
     "output_type": "execute_result"
    }
   ],
   "source": [
    "secondary_dataset_df['TPsum'].value_counts()"
   ]
  },
  {
   "cell_type": "code",
   "execution_count": 8,
   "id": "899c08f4-27ce-41e4-8ddf-f8c13aff8e8c",
   "metadata": {},
   "outputs": [
    {
     "data": {
      "text/plain": [
       "Index(['sample', 'HRD', 't_MMSET', 't_CCND1', 'any_MAF', 't_MYC',\n",
       "       'chromothripsis_code', 'APOBEC_code', 'TPsum', 'gain1q21'],\n",
       "      dtype='object')"
      ]
     },
     "execution_count": 8,
     "metadata": {},
     "output_type": "execute_result"
    }
   ],
   "source": [
    "secondary_dataset_df.columns"
   ]
  },
  {
   "cell_type": "code",
   "execution_count": 10,
   "id": "8c88aefd-77ea-425f-89b6-14fdd74e11b5",
   "metadata": {},
   "outputs": [
    {
     "data": {
      "text/html": [
       "<div>\n",
       "<style scoped>\n",
       "    .dataframe tbody tr th:only-of-type {\n",
       "        vertical-align: middle;\n",
       "    }\n",
       "\n",
       "    .dataframe tbody tr th {\n",
       "        vertical-align: top;\n",
       "    }\n",
       "\n",
       "    .dataframe thead th {\n",
       "        text-align: right;\n",
       "    }\n",
       "</style>\n",
       "<table border=\"1\" class=\"dataframe\">\n",
       "  <thead>\n",
       "    <tr style=\"text-align: right;\">\n",
       "      <th></th>\n",
       "      <th>Unnamed: 0</th>\n",
       "      <th>0</th>\n",
       "    </tr>\n",
       "  </thead>\n",
       "  <tbody>\n",
       "    <tr>\n",
       "      <th>0</th>\n",
       "      <td>0</td>\n",
       "      <td>1</td>\n",
       "    </tr>\n",
       "    <tr>\n",
       "      <th>1</th>\n",
       "      <td>1</td>\n",
       "      <td>1</td>\n",
       "    </tr>\n",
       "    <tr>\n",
       "      <th>2</th>\n",
       "      <td>2</td>\n",
       "      <td>2</td>\n",
       "    </tr>\n",
       "    <tr>\n",
       "      <th>3</th>\n",
       "      <td>3</td>\n",
       "      <td>1</td>\n",
       "    </tr>\n",
       "    <tr>\n",
       "      <th>4</th>\n",
       "      <td>4</td>\n",
       "      <td>1</td>\n",
       "    </tr>\n",
       "    <tr>\n",
       "      <th>...</th>\n",
       "      <td>...</td>\n",
       "      <td>...</td>\n",
       "    </tr>\n",
       "    <tr>\n",
       "      <th>437</th>\n",
       "      <td>437</td>\n",
       "      <td>2</td>\n",
       "    </tr>\n",
       "    <tr>\n",
       "      <th>438</th>\n",
       "      <td>438</td>\n",
       "      <td>1</td>\n",
       "    </tr>\n",
       "    <tr>\n",
       "      <th>439</th>\n",
       "      <td>439</td>\n",
       "      <td>2</td>\n",
       "    </tr>\n",
       "    <tr>\n",
       "      <th>440</th>\n",
       "      <td>440</td>\n",
       "      <td>2</td>\n",
       "    </tr>\n",
       "    <tr>\n",
       "      <th>441</th>\n",
       "      <td>441</td>\n",
       "      <td>2</td>\n",
       "    </tr>\n",
       "  </tbody>\n",
       "</table>\n",
       "<p>442 rows × 2 columns</p>\n",
       "</div>"
      ],
      "text/plain": [
       "     Unnamed: 0  0\n",
       "0             0  1\n",
       "1             1  1\n",
       "2             2  2\n",
       "3             3  1\n",
       "4             4  1\n",
       "..          ... ..\n",
       "437         437  2\n",
       "438         438  1\n",
       "439         439  2\n",
       "440         440  2\n",
       "441         441  2\n",
       "\n",
       "[442 rows x 2 columns]"
      ]
     },
     "execution_count": 10,
     "metadata": {},
     "output_type": "execute_result"
    }
   ],
   "source": [
    "labels_df"
   ]
  },
  {
   "cell_type": "code",
   "execution_count": 12,
   "id": "c9b209af-3592-4182-b5a5-305939ac223d",
   "metadata": {},
   "outputs": [
    {
     "data": {
      "text/plain": [
       "3    224\n",
       "1    218\n",
       "0    217\n",
       "Name: label, dtype: int64"
      ]
     },
     "execution_count": 12,
     "metadata": {},
     "output_type": "execute_result"
    }
   ],
   "source": [
    "input_label_fn = 'data/WEE1_labels3.csv'\n",
    "labels_df = pd.read_csv(input_label_fn) \n",
    "labels_df['label'].value_counts()"
   ]
  },
  {
   "cell_type": "code",
   "execution_count": null,
   "id": "5700804a-e26a-4724-b647-ebd646f956e9",
   "metadata": {},
   "outputs": [],
   "source": []
  },
  {
   "cell_type": "code",
   "execution_count": 13,
   "id": "7f46d9e6-1be6-4167-8704-84e1f187568f",
   "metadata": {},
   "outputs": [],
   "source": [
    "input_label_fn = 'data/WEE1_labels3.csv'\n",
    "output_table1_fn = 'table1_3class.csv'\n",
    "\n",
    "low_key = 1\n",
    "high_key = 3\n",
    "\n",
    "labels_df = pd.read_csv(input_label_fn) \n",
    "\n",
    "\n",
    "table1 = pd.DataFrame({'Variable': ['Age', 'Sex', 'ISS', 'Treatment'],\\\n",
    "                       'Low WEE1':[0, 0, 0, 0], 'High WEE1':[0, 0, 0, 0],\\\n",
    "                       'p-val':[0, 0, 0, 0]}) \n",
    "\n",
    "low_val_ids = labels_df[labels_df['label']==low_key]['ID'].values\n",
    "high_val_ids = labels_df[labels_df['label']==high_key]['ID'].values\n",
    "\n",
    "low_age = clinical_data_df[clinical_data_df['subjectIDlist'].isin(low_val_ids)]['age_list'].values\n",
    "high_age = clinical_data_df[clinical_data_df['subjectIDlist'].isin(high_val_ids)]['age_list'].values\n",
    "\n",
    "table1.loc[0, 'Low WEE1'] = np.round(np.mean(low_age), 4) \n",
    "table1.loc[0, 'High WEE1'] = np.round(np.mean(high_age), 4) \n",
    "table1.loc[0, 'p-val'] = np.round(stats.ttest_ind(low_age, high_age).pvalue, 4) \n",
    "\n",
    "low_series = clinical_data_df[clinical_data_df['subjectIDlist'].isin(low_val_ids)]['gender_list'].value_counts()\n",
    "high_series = clinical_data_df[clinical_data_df['subjectIDlist'].isin(high_val_ids)]['gender_list'].value_counts()\n",
    "table = (low_series[1], low_series[2]), (high_series[1], high_series[2])\n",
    "oddsr, p  = stats.fisher_exact(table)   \n",
    "low_str = 'M: ' + str(low_series[1]) +'; '+ 'F: ' + str(low_series[2])\n",
    "high_str = 'M: ' + str(high_series[1]) +'; '+ 'F: ' + str(high_series[2])\n",
    "\n",
    "table1.loc[1, 'Low WEE1'] = low_str\n",
    "table1.loc[1, 'High WEE1'] = high_str\n",
    "table1.loc[1, 'p-val'] = p\n",
    "\n",
    "low_series = clinical_data_df[clinical_data_df['subjectIDlist'].isin(low_val_ids)]['iss_list'].value_counts()\n",
    "high_series = clinical_data_df[clinical_data_df['subjectIDlist'].isin(high_val_ids)]['iss_list'].value_counts()\n",
    "table = [[low_series[1], low_series[2], low_series[3]], [high_series[1], high_series[2], high_series[3]]]\n",
    "res = stats.chi2_contingency(table)   \n",
    "low_str = '(1): ' + str(low_series[1]) +'; '+ '(2): ' + str(low_series[2]) + '; (3): ' + str(low_series[3])\n",
    "high_str = '(1): ' + str(high_series[1]) +'; '+ '(2): ' + str(high_series[2]) + '; (3): ' + str(high_series[3])\n",
    "\n",
    "table1.loc[2, 'Low WEE1'] = low_str\n",
    "table1.loc[2, 'High WEE1'] = high_str\n",
    "table1.loc[2, 'p-val'] = res.pvalue\n",
    "\n",
    "low_therapy_series = clinical_data_df[clinical_data_df['subjectIDlist'].isin(low_val_ids)]['therapy_list'].value_counts()\n",
    "low_output_str = \"\"\n",
    "for n in range(0, len(low_therapy_series.index)): \n",
    "    low_output_str = low_output_str + low_therapy_series.index[n] + \": \" + str(low_therapy_series.values[n]) + \"; \"\n",
    "\n",
    "high_therapy_series = clinical_data_df[clinical_data_df['subjectIDlist'].isin(high_val_ids)]['therapy_list'].value_counts()\n",
    "high_output_str = \"\"\n",
    "for n in range(0, len(high_therapy_series.index)): \n",
    "    high_output_str = high_output_str + high_therapy_series.index[n] + \": \" + str(high_therapy_series.values[n]) + \"; \"\n",
    "\n",
    "table1.loc[3, 'Low WEE1'] = low_output_str\n",
    "table1.loc[3, 'High WEE1'] = high_output_str\n",
    "table1.loc[3, 'p-val'] = \"-\"\n",
    "\n",
    "# table1.to_csv(output_table1_fn)"
   ]
  },
  {
   "cell_type": "code",
   "execution_count": 14,
   "id": "46231462-88c0-45f6-9e1c-131d1a913584",
   "metadata": {},
   "outputs": [
    {
     "data": {
      "text/html": [
       "<div>\n",
       "<style scoped>\n",
       "    .dataframe tbody tr th:only-of-type {\n",
       "        vertical-align: middle;\n",
       "    }\n",
       "\n",
       "    .dataframe tbody tr th {\n",
       "        vertical-align: top;\n",
       "    }\n",
       "\n",
       "    .dataframe thead th {\n",
       "        text-align: right;\n",
       "    }\n",
       "</style>\n",
       "<table border=\"1\" class=\"dataframe\">\n",
       "  <thead>\n",
       "    <tr style=\"text-align: right;\">\n",
       "      <th></th>\n",
       "      <th>Variable</th>\n",
       "      <th>Low WEE1</th>\n",
       "      <th>High WEE1</th>\n",
       "      <th>p-val</th>\n",
       "    </tr>\n",
       "  </thead>\n",
       "  <tbody>\n",
       "    <tr>\n",
       "      <th>0</th>\n",
       "      <td>Age</td>\n",
       "      <td>63.4312</td>\n",
       "      <td>61.1027</td>\n",
       "      <td>0.0212</td>\n",
       "    </tr>\n",
       "    <tr>\n",
       "      <th>1</th>\n",
       "      <td>Sex</td>\n",
       "      <td>M: 114; F: 104</td>\n",
       "      <td>M: 139; F: 85</td>\n",
       "      <td>0.043518</td>\n",
       "    </tr>\n",
       "    <tr>\n",
       "      <th>2</th>\n",
       "      <td>ISS</td>\n",
       "      <td>(1): 75; (2): 88; (3): 48</td>\n",
       "      <td>(1): 79; (2): 73; (3): 69</td>\n",
       "      <td>0.080385</td>\n",
       "    </tr>\n",
       "    <tr>\n",
       "      <th>3</th>\n",
       "      <td>Treatment</td>\n",
       "      <td>combined bortezomib/IMIDs-based: 124; Bortezom...</td>\n",
       "      <td>combined bortezomib/IMIDs-based: 89; combined ...</td>\n",
       "      <td>-</td>\n",
       "    </tr>\n",
       "  </tbody>\n",
       "</table>\n",
       "</div>"
      ],
      "text/plain": [
       "    Variable                                           Low WEE1  \\\n",
       "0        Age                                            63.4312   \n",
       "1        Sex                                     M: 114; F: 104   \n",
       "2        ISS                          (1): 75; (2): 88; (3): 48   \n",
       "3  Treatment  combined bortezomib/IMIDs-based: 124; Bortezom...   \n",
       "\n",
       "                                           High WEE1     p-val  \n",
       "0                                            61.1027    0.0212  \n",
       "1                                      M: 139; F: 85  0.043518  \n",
       "2                          (1): 79; (2): 73; (3): 69  0.080385  \n",
       "3  combined bortezomib/IMIDs-based: 89; combined ...         -  "
      ]
     },
     "execution_count": 14,
     "metadata": {},
     "output_type": "execute_result"
    }
   ],
   "source": [
    "table1"
   ]
  },
  {
   "cell_type": "code",
   "execution_count": 15,
   "id": "361456ca-8305-4420-b654-83194d891955",
   "metadata": {},
   "outputs": [],
   "source": [
    "table1 = table1.set_index('Variable') "
   ]
  },
  {
   "cell_type": "code",
   "execution_count": 16,
   "id": "caa00e77-0232-405c-840c-680621612046",
   "metadata": {},
   "outputs": [
    {
     "data": {
      "text/html": [
       "<div>\n",
       "<style scoped>\n",
       "    .dataframe tbody tr th:only-of-type {\n",
       "        vertical-align: middle;\n",
       "    }\n",
       "\n",
       "    .dataframe tbody tr th {\n",
       "        vertical-align: top;\n",
       "    }\n",
       "\n",
       "    .dataframe thead th {\n",
       "        text-align: right;\n",
       "    }\n",
       "</style>\n",
       "<table border=\"1\" class=\"dataframe\">\n",
       "  <thead>\n",
       "    <tr style=\"text-align: right;\">\n",
       "      <th></th>\n",
       "      <th>Low WEE1</th>\n",
       "      <th>High WEE1</th>\n",
       "      <th>p-val</th>\n",
       "    </tr>\n",
       "    <tr>\n",
       "      <th>Variable</th>\n",
       "      <th></th>\n",
       "      <th></th>\n",
       "      <th></th>\n",
       "    </tr>\n",
       "  </thead>\n",
       "  <tbody>\n",
       "    <tr>\n",
       "      <th>Age</th>\n",
       "      <td>63.4312</td>\n",
       "      <td>61.1027</td>\n",
       "      <td>0.0212</td>\n",
       "    </tr>\n",
       "    <tr>\n",
       "      <th>Sex</th>\n",
       "      <td>M: 114; F: 104</td>\n",
       "      <td>M: 139; F: 85</td>\n",
       "      <td>0.043518</td>\n",
       "    </tr>\n",
       "    <tr>\n",
       "      <th>ISS</th>\n",
       "      <td>(1): 75; (2): 88; (3): 48</td>\n",
       "      <td>(1): 79; (2): 73; (3): 69</td>\n",
       "      <td>0.080385</td>\n",
       "    </tr>\n",
       "    <tr>\n",
       "      <th>Treatment</th>\n",
       "      <td>combined bortezomib/IMIDs-based: 124; Bortezom...</td>\n",
       "      <td>combined bortezomib/IMIDs-based: 89; combined ...</td>\n",
       "      <td>-</td>\n",
       "    </tr>\n",
       "  </tbody>\n",
       "</table>\n",
       "</div>"
      ],
      "text/plain": [
       "                                                    Low WEE1  \\\n",
       "Variable                                                       \n",
       "Age                                                  63.4312   \n",
       "Sex                                           M: 114; F: 104   \n",
       "ISS                                (1): 75; (2): 88; (3): 48   \n",
       "Treatment  combined bortezomib/IMIDs-based: 124; Bortezom...   \n",
       "\n",
       "                                                   High WEE1     p-val  \n",
       "Variable                                                                \n",
       "Age                                                  61.1027    0.0212  \n",
       "Sex                                            M: 139; F: 85  0.043518  \n",
       "ISS                                (1): 79; (2): 73; (3): 69  0.080385  \n",
       "Treatment  combined bortezomib/IMIDs-based: 89; combined ...         -  "
      ]
     },
     "execution_count": 16,
     "metadata": {},
     "output_type": "execute_result"
    }
   ],
   "source": [
    "table1"
   ]
  },
  {
   "cell_type": "code",
   "execution_count": 19,
   "id": "37a6bd14-a783-4c89-82f4-281ac074cb0e",
   "metadata": {},
   "outputs": [],
   "source": [
    "def pad_vector(low_feature):  \n",
    "    # print(\"pad\") \n",
    "    # print(low_feature) \n",
    "    if len(low_feature.index) < 3: \n",
    "        if low_feature.index[0] == 0: \n",
    "            if low_feature.index[1] == 1: \n",
    "                low_feature.loc[2.0] = 0 \n",
    "    return low_feature"
   ]
  },
  {
   "cell_type": "code",
   "execution_count": 20,
   "id": "471638d3-8203-4496-81b7-a8add502b4d4",
   "metadata": {},
   "outputs": [],
   "source": [
    "input_label_fn = 'data/WEE1_labels3.csv'\n",
    "output_table2_fn = 'table1_3class.csv'\n",
    "low_key = 1\n",
    "high_key = 3\n",
    "\n",
    "\n",
    "\n",
    "rows = ['HRD', 't_MMSET', 't_CCND1', 'any_MAF',\\\n",
    "           't_MYC', 'chromothripsis_code', 'APOBEC_code']\n",
    "columns = ['Low WEE1', 'High WEE1', 'p-val']\n",
    "table2 = pd.DataFrame(np.nan, index=rows, columns=columns)\n",
    "\n",
    "labels_df = pd.read_csv(input_label_fn) \n",
    "\n",
    "low_val_ids = labels_df[labels_df['label']==low_key]['ID'].values\n",
    "high_val_ids = labels_df[labels_df['label']==high_key]['ID'].values\n",
    "\n",
    "for n in range(0, len(low_val_ids)): \n",
    "    low_val_ids[n] = low_val_ids[n][0:14]\n",
    "\n",
    "for n in range(0, len(high_val_ids)): \n",
    "    high_val_ids[n] = high_val_ids[n][0:14]\n",
    "\n",
    "for feature_name in rows: \n",
    "    low_feature = secondary_dataset_df[secondary_dataset_df['sample'].isin(low_val_ids)][feature_name].dropna().value_counts()\n",
    "    high_feature = secondary_dataset_df[secondary_dataset_df['sample'].isin(high_val_ids)][feature_name].dropna().value_counts()\n",
    "    \n",
    "    table = (low_feature[0], low_feature[1]), (high_feature[0], high_feature[1])\n",
    "    oddsr, p  = stats.fisher_exact(table)   \n",
    "    low_str = '(0): ' + str(low_feature[0]) +'; '+ '(1): ' + str(low_feature[1])\n",
    "    high_str = '(0): ' + str(high_feature[0]) +'; '+ '(1): ' + str(high_feature[1])\n",
    "    \n",
    "    table2.loc[feature_name, 'Low WEE1'] = low_str\n",
    "    table2.loc[feature_name, 'High WEE1'] = high_str\n",
    "    table2.loc[feature_name, 'p-val'] = \"{:.4e}\".format(p) \n",
    "\n",
    "three_level_features = ['gain1q21', 'TPsum']\n",
    "\n",
    "for feature_name in three_level_features: \n",
    "    low_feature = secondary_dataset_df[secondary_dataset_df['sample'].isin(low_val_ids)][feature_name].dropna().value_counts()\n",
    "    high_feature = secondary_dataset_df[secondary_dataset_df['sample'].isin(high_val_ids)][feature_name].dropna().value_counts()\n",
    "\n",
    "    low_feature = pad_vector(low_feature) \n",
    "    \n",
    "    table = [[low_feature[0], low_feature[1], low_feature[2]], [high_feature[0], high_feature[1], high_feature[2]]]\n",
    "    res = stats.chi2_contingency(table)   \n",
    "    low_str = '(0): ' + str(low_feature[0]) +'; '+ '(1): ' + str(low_feature[1]) + '; (2): ' + str(low_feature[2])\n",
    "    high_str = '(0): ' + str(high_feature[0]) +'; '+ '(1): ' + str(high_feature[1]) + '; (2): ' + str(high_feature[2])\n",
    "    \n",
    "    table2.loc[feature_name, 'Low WEE1'] = low_str\n",
    "    table2.loc[feature_name, 'High WEE1'] = high_str\n",
    "    table2.loc[feature_name, 'p-val'] = \"{:.4e}\".format(res.pvalue)\n",
    "    \n",
    "# table2.to_csv(output_table2_fn)\n",
    "\n",
    "\n",
    "\n",
    "\n"
   ]
  },
  {
   "cell_type": "code",
   "execution_count": 21,
   "id": "228fc80c-ba64-4450-a2ee-4dd48e2b5281",
   "metadata": {},
   "outputs": [
    {
     "data": {
      "text/html": [
       "<div>\n",
       "<style scoped>\n",
       "    .dataframe tbody tr th:only-of-type {\n",
       "        vertical-align: middle;\n",
       "    }\n",
       "\n",
       "    .dataframe tbody tr th {\n",
       "        vertical-align: top;\n",
       "    }\n",
       "\n",
       "    .dataframe thead th {\n",
       "        text-align: right;\n",
       "    }\n",
       "</style>\n",
       "<table border=\"1\" class=\"dataframe\">\n",
       "  <thead>\n",
       "    <tr style=\"text-align: right;\">\n",
       "      <th></th>\n",
       "      <th>Low WEE1</th>\n",
       "      <th>High WEE1</th>\n",
       "      <th>p-val</th>\n",
       "    </tr>\n",
       "  </thead>\n",
       "  <tbody>\n",
       "    <tr>\n",
       "      <th>HRD</th>\n",
       "      <td>(0): 38; (1): 151</td>\n",
       "      <td>(0): 112; (1): 58</td>\n",
       "      <td>7.9401e-19</td>\n",
       "    </tr>\n",
       "    <tr>\n",
       "      <th>t_MMSET</th>\n",
       "      <td>(0): 182; (1): 22</td>\n",
       "      <td>(0): 161; (1): 20</td>\n",
       "      <td>1.0000e+00</td>\n",
       "    </tr>\n",
       "    <tr>\n",
       "      <th>t_CCND1</th>\n",
       "      <td>(0): 193; (1): 11</td>\n",
       "      <td>(0): 112; (1): 69</td>\n",
       "      <td>7.1623e-16</td>\n",
       "    </tr>\n",
       "    <tr>\n",
       "      <th>any_MAF</th>\n",
       "      <td>(0): 200; (1): 4</td>\n",
       "      <td>(0): 159; (1): 22</td>\n",
       "      <td>6.1587e-05</td>\n",
       "    </tr>\n",
       "    <tr>\n",
       "      <th>t_MYC</th>\n",
       "      <td>(0): 165; (1): 39</td>\n",
       "      <td>(0): 162; (1): 19</td>\n",
       "      <td>2.2047e-02</td>\n",
       "    </tr>\n",
       "    <tr>\n",
       "      <th>chromothripsis_code</th>\n",
       "      <td>(0): 162; (1): 42</td>\n",
       "      <td>(0): 125; (1): 56</td>\n",
       "      <td>2.5686e-02</td>\n",
       "    </tr>\n",
       "    <tr>\n",
       "      <th>APOBEC_code</th>\n",
       "      <td>(0): 198; (1): 6</td>\n",
       "      <td>(0): 154; (1): 25</td>\n",
       "      <td>1.0211e-04</td>\n",
       "    </tr>\n",
       "    <tr>\n",
       "      <th>gain1q21</th>\n",
       "      <td>(0): 141; (1): 47; (2): 1</td>\n",
       "      <td>(0): 105; (1): 46; (2): 19</td>\n",
       "      <td>3.4814e-05</td>\n",
       "    </tr>\n",
       "    <tr>\n",
       "      <th>TPsum</th>\n",
       "      <td>(0): 157; (1): 15; (2): 0</td>\n",
       "      <td>(0): 114; (1): 22; (2): 13</td>\n",
       "      <td>5.5456e-05</td>\n",
       "    </tr>\n",
       "  </tbody>\n",
       "</table>\n",
       "</div>"
      ],
      "text/plain": [
       "                                      Low WEE1                   High WEE1  \\\n",
       "HRD                          (0): 38; (1): 151           (0): 112; (1): 58   \n",
       "t_MMSET                      (0): 182; (1): 22           (0): 161; (1): 20   \n",
       "t_CCND1                      (0): 193; (1): 11           (0): 112; (1): 69   \n",
       "any_MAF                       (0): 200; (1): 4           (0): 159; (1): 22   \n",
       "t_MYC                        (0): 165; (1): 39           (0): 162; (1): 19   \n",
       "chromothripsis_code          (0): 162; (1): 42           (0): 125; (1): 56   \n",
       "APOBEC_code                   (0): 198; (1): 6           (0): 154; (1): 25   \n",
       "gain1q21             (0): 141; (1): 47; (2): 1  (0): 105; (1): 46; (2): 19   \n",
       "TPsum                (0): 157; (1): 15; (2): 0  (0): 114; (1): 22; (2): 13   \n",
       "\n",
       "                          p-val  \n",
       "HRD                  7.9401e-19  \n",
       "t_MMSET              1.0000e+00  \n",
       "t_CCND1              7.1623e-16  \n",
       "any_MAF              6.1587e-05  \n",
       "t_MYC                2.2047e-02  \n",
       "chromothripsis_code  2.5686e-02  \n",
       "APOBEC_code          1.0211e-04  \n",
       "gain1q21             3.4814e-05  \n",
       "TPsum                5.5456e-05  "
      ]
     },
     "execution_count": 21,
     "metadata": {},
     "output_type": "execute_result"
    }
   ],
   "source": [
    "table2"
   ]
  },
  {
   "cell_type": "code",
   "execution_count": null,
   "id": "0d26b387-8c86-4ba4-b293-629b9ab6f9c0",
   "metadata": {},
   "outputs": [],
   "source": []
  },
  {
   "cell_type": "code",
   "execution_count": null,
   "id": "cb8163b0-8f75-446e-b16b-440977a246b4",
   "metadata": {},
   "outputs": [],
   "source": []
  },
  {
   "cell_type": "code",
   "execution_count": 22,
   "id": "93e2088d-7940-4e54-b64c-8d6e63c9e9ee",
   "metadata": {},
   "outputs": [
    {
     "data": {
      "text/plain": [
       "array([0., 1., 2.])"
      ]
     },
     "execution_count": 22,
     "metadata": {},
     "output_type": "execute_result"
    }
   ],
   "source": [
    "low_feature.index.values"
   ]
  },
  {
   "cell_type": "code",
   "execution_count": 23,
   "id": "df137ae5-beff-43c1-9043-d506f597ab37",
   "metadata": {},
   "outputs": [
    {
     "data": {
      "text/html": [
       "<div>\n",
       "<style scoped>\n",
       "    .dataframe tbody tr th:only-of-type {\n",
       "        vertical-align: middle;\n",
       "    }\n",
       "\n",
       "    .dataframe tbody tr th {\n",
       "        vertical-align: top;\n",
       "    }\n",
       "\n",
       "    .dataframe thead th {\n",
       "        text-align: right;\n",
       "    }\n",
       "</style>\n",
       "<table border=\"1\" class=\"dataframe\">\n",
       "  <thead>\n",
       "    <tr style=\"text-align: right;\">\n",
       "      <th></th>\n",
       "      <th>Low WEE1</th>\n",
       "      <th>High WEE1</th>\n",
       "      <th>p-val</th>\n",
       "    </tr>\n",
       "  </thead>\n",
       "  <tbody>\n",
       "    <tr>\n",
       "      <th>HRD</th>\n",
       "      <td>(0): 38; (1): 151</td>\n",
       "      <td>(0): 112; (1): 58</td>\n",
       "      <td>7.9401e-19</td>\n",
       "    </tr>\n",
       "    <tr>\n",
       "      <th>t_MMSET</th>\n",
       "      <td>(0): 182; (1): 22</td>\n",
       "      <td>(0): 161; (1): 20</td>\n",
       "      <td>1.0000e+00</td>\n",
       "    </tr>\n",
       "    <tr>\n",
       "      <th>t_CCND1</th>\n",
       "      <td>(0): 193; (1): 11</td>\n",
       "      <td>(0): 112; (1): 69</td>\n",
       "      <td>7.1623e-16</td>\n",
       "    </tr>\n",
       "    <tr>\n",
       "      <th>any_MAF</th>\n",
       "      <td>(0): 200; (1): 4</td>\n",
       "      <td>(0): 159; (1): 22</td>\n",
       "      <td>6.1587e-05</td>\n",
       "    </tr>\n",
       "    <tr>\n",
       "      <th>t_MYC</th>\n",
       "      <td>(0): 165; (1): 39</td>\n",
       "      <td>(0): 162; (1): 19</td>\n",
       "      <td>2.2047e-02</td>\n",
       "    </tr>\n",
       "    <tr>\n",
       "      <th>chromothripsis_code</th>\n",
       "      <td>(0): 162; (1): 42</td>\n",
       "      <td>(0): 125; (1): 56</td>\n",
       "      <td>2.5686e-02</td>\n",
       "    </tr>\n",
       "    <tr>\n",
       "      <th>APOBEC_code</th>\n",
       "      <td>(0): 198; (1): 6</td>\n",
       "      <td>(0): 154; (1): 25</td>\n",
       "      <td>1.0211e-04</td>\n",
       "    </tr>\n",
       "    <tr>\n",
       "      <th>gain1q21</th>\n",
       "      <td>(0): 141; (1): 47; (2): 1</td>\n",
       "      <td>(0): 105; (1): 46; (2): 19</td>\n",
       "      <td>3.4814e-05</td>\n",
       "    </tr>\n",
       "    <tr>\n",
       "      <th>TPsum</th>\n",
       "      <td>(0): 157; (1): 15; (2): 0</td>\n",
       "      <td>(0): 114; (1): 22; (2): 13</td>\n",
       "      <td>5.5456e-05</td>\n",
       "    </tr>\n",
       "  </tbody>\n",
       "</table>\n",
       "</div>"
      ],
      "text/plain": [
       "                                      Low WEE1                   High WEE1  \\\n",
       "HRD                          (0): 38; (1): 151           (0): 112; (1): 58   \n",
       "t_MMSET                      (0): 182; (1): 22           (0): 161; (1): 20   \n",
       "t_CCND1                      (0): 193; (1): 11           (0): 112; (1): 69   \n",
       "any_MAF                       (0): 200; (1): 4           (0): 159; (1): 22   \n",
       "t_MYC                        (0): 165; (1): 39           (0): 162; (1): 19   \n",
       "chromothripsis_code          (0): 162; (1): 42           (0): 125; (1): 56   \n",
       "APOBEC_code                   (0): 198; (1): 6           (0): 154; (1): 25   \n",
       "gain1q21             (0): 141; (1): 47; (2): 1  (0): 105; (1): 46; (2): 19   \n",
       "TPsum                (0): 157; (1): 15; (2): 0  (0): 114; (1): 22; (2): 13   \n",
       "\n",
       "                          p-val  \n",
       "HRD                  7.9401e-19  \n",
       "t_MMSET              1.0000e+00  \n",
       "t_CCND1              7.1623e-16  \n",
       "any_MAF              6.1587e-05  \n",
       "t_MYC                2.2047e-02  \n",
       "chromothripsis_code  2.5686e-02  \n",
       "APOBEC_code          1.0211e-04  \n",
       "gain1q21             3.4814e-05  \n",
       "TPsum                5.5456e-05  "
      ]
     },
     "execution_count": 23,
     "metadata": {},
     "output_type": "execute_result"
    }
   ],
   "source": [
    "table2"
   ]
  },
  {
   "cell_type": "code",
   "execution_count": null,
   "id": "844c52a6-9fc0-4274-b555-967e5a61ef8d",
   "metadata": {},
   "outputs": [],
   "source": []
  },
  {
   "cell_type": "code",
   "execution_count": null,
   "id": "4de8b0d7-0b94-49cf-9a82-6a111b416f9c",
   "metadata": {},
   "outputs": [],
   "source": []
  },
  {
   "cell_type": "code",
   "execution_count": 24,
   "id": "070330d4-7e46-4ef1-90d6-081513413e62",
   "metadata": {},
   "outputs": [],
   "source": [
    "merged_table = pd.concat([table1, table2], axis=0)"
   ]
  },
  {
   "cell_type": "code",
   "execution_count": 25,
   "id": "8d144956-de3d-47e1-a050-4215c091e261",
   "metadata": {},
   "outputs": [],
   "source": [
    "merged_table = merged_table.rename(index={'t_MMSET': 't(4;14)', 't_CCND1': 't(11;14)', 'any_MAF':'MAF translocation', \\\n",
    "                 't_MYC':'MYC translocation', 'chromothripsis_code': 'Chromothripsis',\\\n",
    "                 'APOBEC_code': 'Hyper APOBEC', 'TPsum':'TP53 mutation'})\n"
   ]
  },
  {
   "cell_type": "code",
   "execution_count": 26,
   "id": "3c215f89-4be1-4469-8151-389f0eb787ce",
   "metadata": {},
   "outputs": [
    {
     "data": {
      "text/html": [
       "<div>\n",
       "<style scoped>\n",
       "    .dataframe tbody tr th:only-of-type {\n",
       "        vertical-align: middle;\n",
       "    }\n",
       "\n",
       "    .dataframe tbody tr th {\n",
       "        vertical-align: top;\n",
       "    }\n",
       "\n",
       "    .dataframe thead th {\n",
       "        text-align: right;\n",
       "    }\n",
       "</style>\n",
       "<table border=\"1\" class=\"dataframe\">\n",
       "  <thead>\n",
       "    <tr style=\"text-align: right;\">\n",
       "      <th></th>\n",
       "      <th>Low WEE1</th>\n",
       "      <th>High WEE1</th>\n",
       "      <th>p-val</th>\n",
       "    </tr>\n",
       "  </thead>\n",
       "  <tbody>\n",
       "    <tr>\n",
       "      <th>Age</th>\n",
       "      <td>63.4312</td>\n",
       "      <td>61.1027</td>\n",
       "      <td>0.0212</td>\n",
       "    </tr>\n",
       "    <tr>\n",
       "      <th>Sex</th>\n",
       "      <td>M: 114; F: 104</td>\n",
       "      <td>M: 139; F: 85</td>\n",
       "      <td>0.043518</td>\n",
       "    </tr>\n",
       "    <tr>\n",
       "      <th>ISS</th>\n",
       "      <td>(1): 75; (2): 88; (3): 48</td>\n",
       "      <td>(1): 79; (2): 73; (3): 69</td>\n",
       "      <td>0.080385</td>\n",
       "    </tr>\n",
       "    <tr>\n",
       "      <th>Treatment</th>\n",
       "      <td>combined bortezomib/IMIDs-based: 124; Bortezom...</td>\n",
       "      <td>combined bortezomib/IMIDs-based: 89; combined ...</td>\n",
       "      <td>-</td>\n",
       "    </tr>\n",
       "    <tr>\n",
       "      <th>HRD</th>\n",
       "      <td>(0): 38; (1): 151</td>\n",
       "      <td>(0): 112; (1): 58</td>\n",
       "      <td>7.9401e-19</td>\n",
       "    </tr>\n",
       "    <tr>\n",
       "      <th>t(4;14)</th>\n",
       "      <td>(0): 182; (1): 22</td>\n",
       "      <td>(0): 161; (1): 20</td>\n",
       "      <td>1.0000e+00</td>\n",
       "    </tr>\n",
       "    <tr>\n",
       "      <th>t(11;14)</th>\n",
       "      <td>(0): 193; (1): 11</td>\n",
       "      <td>(0): 112; (1): 69</td>\n",
       "      <td>7.1623e-16</td>\n",
       "    </tr>\n",
       "    <tr>\n",
       "      <th>MAF translocation</th>\n",
       "      <td>(0): 200; (1): 4</td>\n",
       "      <td>(0): 159; (1): 22</td>\n",
       "      <td>6.1587e-05</td>\n",
       "    </tr>\n",
       "    <tr>\n",
       "      <th>MYC translocation</th>\n",
       "      <td>(0): 165; (1): 39</td>\n",
       "      <td>(0): 162; (1): 19</td>\n",
       "      <td>2.2047e-02</td>\n",
       "    </tr>\n",
       "    <tr>\n",
       "      <th>Chromothripsis</th>\n",
       "      <td>(0): 162; (1): 42</td>\n",
       "      <td>(0): 125; (1): 56</td>\n",
       "      <td>2.5686e-02</td>\n",
       "    </tr>\n",
       "    <tr>\n",
       "      <th>Hyper APOBEC</th>\n",
       "      <td>(0): 198; (1): 6</td>\n",
       "      <td>(0): 154; (1): 25</td>\n",
       "      <td>1.0211e-04</td>\n",
       "    </tr>\n",
       "    <tr>\n",
       "      <th>gain1q21</th>\n",
       "      <td>(0): 141; (1): 47; (2): 1</td>\n",
       "      <td>(0): 105; (1): 46; (2): 19</td>\n",
       "      <td>3.4814e-05</td>\n",
       "    </tr>\n",
       "    <tr>\n",
       "      <th>TP53 mutation</th>\n",
       "      <td>(0): 157; (1): 15; (2): 0</td>\n",
       "      <td>(0): 114; (1): 22; (2): 13</td>\n",
       "      <td>5.5456e-05</td>\n",
       "    </tr>\n",
       "  </tbody>\n",
       "</table>\n",
       "</div>"
      ],
      "text/plain": [
       "                                                            Low WEE1  \\\n",
       "Age                                                          63.4312   \n",
       "Sex                                                   M: 114; F: 104   \n",
       "ISS                                        (1): 75; (2): 88; (3): 48   \n",
       "Treatment          combined bortezomib/IMIDs-based: 124; Bortezom...   \n",
       "HRD                                                (0): 38; (1): 151   \n",
       "t(4;14)                                            (0): 182; (1): 22   \n",
       "t(11;14)                                           (0): 193; (1): 11   \n",
       "MAF translocation                                   (0): 200; (1): 4   \n",
       "MYC translocation                                  (0): 165; (1): 39   \n",
       "Chromothripsis                                     (0): 162; (1): 42   \n",
       "Hyper APOBEC                                        (0): 198; (1): 6   \n",
       "gain1q21                                   (0): 141; (1): 47; (2): 1   \n",
       "TP53 mutation                              (0): 157; (1): 15; (2): 0   \n",
       "\n",
       "                                                           High WEE1  \\\n",
       "Age                                                          61.1027   \n",
       "Sex                                                    M: 139; F: 85   \n",
       "ISS                                        (1): 79; (2): 73; (3): 69   \n",
       "Treatment          combined bortezomib/IMIDs-based: 89; combined ...   \n",
       "HRD                                                (0): 112; (1): 58   \n",
       "t(4;14)                                            (0): 161; (1): 20   \n",
       "t(11;14)                                           (0): 112; (1): 69   \n",
       "MAF translocation                                  (0): 159; (1): 22   \n",
       "MYC translocation                                  (0): 162; (1): 19   \n",
       "Chromothripsis                                     (0): 125; (1): 56   \n",
       "Hyper APOBEC                                       (0): 154; (1): 25   \n",
       "gain1q21                                  (0): 105; (1): 46; (2): 19   \n",
       "TP53 mutation                             (0): 114; (1): 22; (2): 13   \n",
       "\n",
       "                        p-val  \n",
       "Age                    0.0212  \n",
       "Sex                  0.043518  \n",
       "ISS                  0.080385  \n",
       "Treatment                   -  \n",
       "HRD                7.9401e-19  \n",
       "t(4;14)            1.0000e+00  \n",
       "t(11;14)           7.1623e-16  \n",
       "MAF translocation  6.1587e-05  \n",
       "MYC translocation  2.2047e-02  \n",
       "Chromothripsis     2.5686e-02  \n",
       "Hyper APOBEC       1.0211e-04  \n",
       "gain1q21           3.4814e-05  \n",
       "TP53 mutation      5.5456e-05  "
      ]
     },
     "execution_count": 26,
     "metadata": {},
     "output_type": "execute_result"
    }
   ],
   "source": [
    "merged_table"
   ]
  },
  {
   "cell_type": "code",
   "execution_count": 31,
   "id": "14c33552-22cb-4a01-adbe-0d5120ed842f",
   "metadata": {},
   "outputs": [],
   "source": [
    "merged_table = merged_table.drop(\"Treatment\", axis='index')"
   ]
  },
  {
   "cell_type": "code",
   "execution_count": 38,
   "id": "d00929f9-f62b-4539-8c97-0bf3ec80f21f",
   "metadata": {},
   "outputs": [
    {
     "data": {
      "text/plain": [
       "array(['Age', 'Sex', 'ISS', 'HRD', 't(4;14)', 't(11;14)',\n",
       "       'MAF translocation', 'MYC translocation', 'Chromothripsis',\n",
       "       'Hyper APOBEC', 'gain1q21', 'TP53 mutation'], dtype=object)"
      ]
     },
     "execution_count": 38,
     "metadata": {},
     "output_type": "execute_result"
    }
   ],
   "source": []
  },
  {
   "cell_type": "code",
   "execution_count": 33,
   "id": "570f018b-c2fc-4148-af11-ba00719f6f6d",
   "metadata": {},
   "outputs": [],
   "source": [
    "from statsmodels.stats.multitest import multipletests"
   ]
  },
  {
   "cell_type": "code",
   "execution_count": 39,
   "id": "a1db476c-2cd9-4e36-9566-e15b6f948dc6",
   "metadata": {},
   "outputs": [],
   "source": [
    "foo = merged_table.index.to_numpy()"
   ]
  },
  {
   "cell_type": "code",
   "execution_count": 42,
   "id": "acda70c7-f0c3-4433-a923-6aaaf9e1c677",
   "metadata": {},
   "outputs": [],
   "source": [
    "pvalues = merged_table['p-val'].values"
   ]
  },
  {
   "cell_type": "code",
   "execution_count": 46,
   "id": "3c3c45d4-a554-469d-bf00-de1ba330e876",
   "metadata": {},
   "outputs": [],
   "source": [
    "pvalues = pvalues.astype(np.float64) "
   ]
  },
  {
   "cell_type": "code",
   "execution_count": 48,
   "id": "71ce00a1-ec00-4942-9bdd-e9dc26297089",
   "metadata": {},
   "outputs": [],
   "source": [
    "reject, pvals_corrected, a, b = multipletests(pvalues, alpha=0.05, method='fdr_bh')    \n",
    "# foo2 = foo[reject]"
   ]
  },
  {
   "cell_type": "code",
   "execution_count": 50,
   "id": "18062b16-dbf4-4b8b-a315-076f27824551",
   "metadata": {},
   "outputs": [
    {
     "data": {
      "text/plain": [
       "array(['Age', 'Sex', 'ISS', 'HRD', 't(4;14)', 't(11;14)',\n",
       "       'MAF translocation', 'MYC translocation', 'Chromothripsis',\n",
       "       'Hyper APOBEC', 'gain1q21', 'TP53 mutation'], dtype=object)"
      ]
     },
     "execution_count": 50,
     "metadata": {},
     "output_type": "execute_result"
    }
   ],
   "source": [
    "foo"
   ]
  },
  {
   "cell_type": "code",
   "execution_count": 51,
   "id": "88a8270a-55ee-40a6-b788-721f744c2da5",
   "metadata": {},
   "outputs": [
    {
     "data": {
      "text/plain": [
       "array([3.30705000e-02, 5.22221234e-02, 8.76924133e-02, 9.52812000e-18,\n",
       "       1.00000000e+00, 4.29738000e-15, 1.47808800e-04, 3.30705000e-02,\n",
       "       3.42480000e-02, 2.04220000e-04, 1.39256000e-04, 1.47808800e-04])"
      ]
     },
     "execution_count": 51,
     "metadata": {},
     "output_type": "execute_result"
    }
   ],
   "source": [
    "pvals_corrected"
   ]
  },
  {
   "cell_type": "code",
   "execution_count": 49,
   "id": "b44639c6-5b53-4337-bfa0-f3a6939e317f",
   "metadata": {},
   "outputs": [
    {
     "data": {
      "text/plain": [
       "array(['Age', 'HRD', 't(11;14)', 'MAF translocation', 'MYC translocation',\n",
       "       'Chromothripsis', 'Hyper APOBEC', 'gain1q21', 'TP53 mutation'],\n",
       "      dtype=object)"
      ]
     },
     "execution_count": 49,
     "metadata": {},
     "output_type": "execute_result"
    }
   ],
   "source": [
    "foo[reject]"
   ]
  },
  {
   "cell_type": "code",
   "execution_count": 53,
   "id": "ae80bc2a-fbf5-4cd7-904f-2fd9a542d282",
   "metadata": {},
   "outputs": [
    {
     "data": {
      "text/html": [
       "<div>\n",
       "<style scoped>\n",
       "    .dataframe tbody tr th:only-of-type {\n",
       "        vertical-align: middle;\n",
       "    }\n",
       "\n",
       "    .dataframe tbody tr th {\n",
       "        vertical-align: top;\n",
       "    }\n",
       "\n",
       "    .dataframe thead th {\n",
       "        text-align: right;\n",
       "    }\n",
       "</style>\n",
       "<table border=\"1\" class=\"dataframe\">\n",
       "  <thead>\n",
       "    <tr style=\"text-align: right;\">\n",
       "      <th></th>\n",
       "      <th>Index</th>\n",
       "      <th>pvals_fdr</th>\n",
       "    </tr>\n",
       "  </thead>\n",
       "  <tbody>\n",
       "    <tr>\n",
       "      <th>0</th>\n",
       "      <td>Age</td>\n",
       "      <td>3.307050e-02</td>\n",
       "    </tr>\n",
       "    <tr>\n",
       "      <th>1</th>\n",
       "      <td>Sex</td>\n",
       "      <td>5.222212e-02</td>\n",
       "    </tr>\n",
       "    <tr>\n",
       "      <th>2</th>\n",
       "      <td>ISS</td>\n",
       "      <td>8.769241e-02</td>\n",
       "    </tr>\n",
       "    <tr>\n",
       "      <th>3</th>\n",
       "      <td>HRD</td>\n",
       "      <td>9.528120e-18</td>\n",
       "    </tr>\n",
       "    <tr>\n",
       "      <th>4</th>\n",
       "      <td>t(4;14)</td>\n",
       "      <td>1.000000e+00</td>\n",
       "    </tr>\n",
       "    <tr>\n",
       "      <th>5</th>\n",
       "      <td>t(11;14)</td>\n",
       "      <td>4.297380e-15</td>\n",
       "    </tr>\n",
       "    <tr>\n",
       "      <th>6</th>\n",
       "      <td>MAF translocation</td>\n",
       "      <td>1.478088e-04</td>\n",
       "    </tr>\n",
       "    <tr>\n",
       "      <th>7</th>\n",
       "      <td>MYC translocation</td>\n",
       "      <td>3.307050e-02</td>\n",
       "    </tr>\n",
       "    <tr>\n",
       "      <th>8</th>\n",
       "      <td>Chromothripsis</td>\n",
       "      <td>3.424800e-02</td>\n",
       "    </tr>\n",
       "    <tr>\n",
       "      <th>9</th>\n",
       "      <td>Hyper APOBEC</td>\n",
       "      <td>2.042200e-04</td>\n",
       "    </tr>\n",
       "    <tr>\n",
       "      <th>10</th>\n",
       "      <td>gain1q21</td>\n",
       "      <td>1.392560e-04</td>\n",
       "    </tr>\n",
       "    <tr>\n",
       "      <th>11</th>\n",
       "      <td>TP53 mutation</td>\n",
       "      <td>1.478088e-04</td>\n",
       "    </tr>\n",
       "  </tbody>\n",
       "</table>\n",
       "</div>"
      ],
      "text/plain": [
       "                Index     pvals_fdr\n",
       "0                 Age  3.307050e-02\n",
       "1                 Sex  5.222212e-02\n",
       "2                 ISS  8.769241e-02\n",
       "3                 HRD  9.528120e-18\n",
       "4             t(4;14)  1.000000e+00\n",
       "5            t(11;14)  4.297380e-15\n",
       "6   MAF translocation  1.478088e-04\n",
       "7   MYC translocation  3.307050e-02\n",
       "8      Chromothripsis  3.424800e-02\n",
       "9        Hyper APOBEC  2.042200e-04\n",
       "10           gain1q21  1.392560e-04\n",
       "11      TP53 mutation  1.478088e-04"
      ]
     },
     "execution_count": 53,
     "metadata": {},
     "output_type": "execute_result"
    }
   ],
   "source": [
    "pd.DataFrame({'Index':foo, 'pvals_fdr': pvals_corrected})"
   ]
  },
  {
   "cell_type": "code",
   "execution_count": null,
   "id": "d0c17b5e-c5cc-4874-822f-ceeb257aa420",
   "metadata": {},
   "outputs": [],
   "source": []
  },
  {
   "cell_type": "code",
   "execution_count": null,
   "id": "31a9e1a4-bdde-4e21-877d-8643309477ac",
   "metadata": {},
   "outputs": [],
   "source": []
  },
  {
   "cell_type": "code",
   "execution_count": 51,
   "id": "526eb0af-ca07-4a4f-95c2-d30e0e2c7496",
   "metadata": {},
   "outputs": [],
   "source": [
    "merged_table.to_csv('table1_3.csv') "
   ]
  },
  {
   "cell_type": "code",
   "execution_count": null,
   "id": "0fa8ab5a-b807-4444-a407-238cd7099fd3",
   "metadata": {},
   "outputs": [],
   "source": []
  },
  {
   "cell_type": "code",
   "execution_count": null,
   "id": "36e75e4e-b644-44dd-9cb9-b25d1e5d2707",
   "metadata": {},
   "outputs": [],
   "source": []
  },
  {
   "cell_type": "code",
   "execution_count": null,
   "id": "612bab83-0749-4c5d-bbd9-bc336b38a022",
   "metadata": {},
   "outputs": [],
   "source": []
  },
  {
   "cell_type": "code",
   "execution_count": null,
   "id": "6491be9a-13d7-4052-88a7-37b4cc95798d",
   "metadata": {},
   "outputs": [],
   "source": []
  },
  {
   "cell_type": "code",
   "execution_count": null,
   "id": "8e03c528-53f6-45fd-9775-548c557b4db6",
   "metadata": {},
   "outputs": [],
   "source": []
  },
  {
   "cell_type": "code",
   "execution_count": null,
   "id": "864837ef-a7d5-49dc-bff3-5d52ca21a0b7",
   "metadata": {},
   "outputs": [],
   "source": []
  },
  {
   "cell_type": "code",
   "execution_count": null,
   "id": "73ff64dc-6ecf-4ce4-b3d5-98ebb8e2b877",
   "metadata": {},
   "outputs": [],
   "source": []
  },
  {
   "cell_type": "code",
   "execution_count": null,
   "id": "c88cb36b-0f9b-44c1-958e-d032a46a4354",
   "metadata": {},
   "outputs": [],
   "source": []
  }
 ],
 "metadata": {
  "kernelspec": {
   "display_name": "Python 3 (ipykernel)",
   "language": "python",
   "name": "python3"
  },
  "language_info": {
   "codemirror_mode": {
    "name": "ipython",
    "version": 3
   },
   "file_extension": ".py",
   "mimetype": "text/x-python",
   "name": "python",
   "nbconvert_exporter": "python",
   "pygments_lexer": "ipython3",
   "version": "3.9.16"
  }
 },
 "nbformat": 4,
 "nbformat_minor": 5
}
